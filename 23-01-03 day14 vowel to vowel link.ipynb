{
 "cells": [
  {
   "cell_type": "code",
   "execution_count": null,
   "id": "aec405c0",
   "metadata": {},
   "outputs": [],
   "source": [
    "'''\n",
    "gn a sentence as text return True if any two adjacent words have this property\n",
    "One word ends with a vowel, while the word immediately after begin with a vowel\n",
    "(a,e,i,o,u)\n",
    "*only for lowercase\n",
    "'''"
   ]
  },
  {
   "cell_type": "code",
   "execution_count": 12,
   "id": "ca95eb7b",
   "metadata": {},
   "outputs": [
    {
     "name": "stdout",
     "output_type": "stream",
     "text": [
      "a very large appliance\n"
     ]
    },
    {
     "data": {
      "text/plain": [
       "True"
      ]
     },
     "execution_count": 12,
     "metadata": {},
     "output_type": "execute_result"
    }
   ],
   "source": [
    "def voweltovowellinks(txt):\n",
    "    l=len(txt)\n",
    "    vowels='aeiou'\n",
    "    for i in range(l-1):\n",
    "        if txt[i][-1] in vowels and txt[i+1][0] in vowels:\n",
    "            return True\n",
    "    return False\n",
    "\n",
    "voweltovowellinks(input().split())"
   ]
  },
  {
   "cell_type": "code",
   "execution_count": null,
   "id": "f5a03f1e",
   "metadata": {},
   "outputs": [],
   "source": []
  },
  {
   "cell_type": "code",
   "execution_count": null,
   "id": "64aadcc3",
   "metadata": {},
   "outputs": [],
   "source": []
  }
 ],
 "metadata": {
  "kernelspec": {
   "display_name": "Python 3 (ipykernel)",
   "language": "python",
   "name": "python3"
  },
  "language_info": {
   "codemirror_mode": {
    "name": "ipython",
    "version": 3
   },
   "file_extension": ".py",
   "mimetype": "text/x-python",
   "name": "python",
   "nbconvert_exporter": "python",
   "pygments_lexer": "ipython3",
   "version": "3.9.7"
  }
 },
 "nbformat": 4,
 "nbformat_minor": 5
}
