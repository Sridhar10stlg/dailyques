{
 "cells": [
  {
   "cell_type": "code",
   "execution_count": null,
   "id": "75eed6cb",
   "metadata": {},
   "outputs": [],
   "source": [
    "'''\n",
    "Input\n",
    "[1, 2, 3, 4 ,5]\n",
    "\n",
    "Output\n",
    "[120, 60, 40, 30, 24]\n",
    "\n",
    "Exp: we have print the multiplication of all other index values and print it respectively'''"
   ]
  },
  {
   "cell_type": "code",
   "execution_count": 7,
   "id": "972afb13",
   "metadata": {},
   "outputs": [
    {
     "name": "stdout",
     "output_type": "stream",
     "text": [
      "1 2 3 4 5\n",
      "[1, 2, 3, 4, 5]\n",
      "[120, 60, 40, 30, 24]\n"
     ]
    }
   ],
   "source": [
    "l=list(map(int,input().split()))\n",
    "print(l)\n",
    "n=len(l)\n",
    "nl=[]\n",
    "for i in range(n):\n",
    "    prod=1\n",
    "    for j in range(n):\n",
    "        if l[i]==l[j]:\n",
    "            continue\n",
    "        else:\n",
    "            prod=prod*l[j]\n",
    "    nl.append(prod)\n",
    "print(nl)"
   ]
  },
  {
   "cell_type": "code",
   "execution_count": null,
   "id": "ddd62213",
   "metadata": {},
   "outputs": [],
   "source": []
  },
  {
   "cell_type": "code",
   "execution_count": null,
   "id": "9693b173",
   "metadata": {},
   "outputs": [],
   "source": []
  }
 ],
 "metadata": {
  "kernelspec": {
   "display_name": "Python 3 (ipykernel)",
   "language": "python",
   "name": "python3"
  },
  "language_info": {
   "codemirror_mode": {
    "name": "ipython",
    "version": 3
   },
   "file_extension": ".py",
   "mimetype": "text/x-python",
   "name": "python",
   "nbconvert_exporter": "python",
   "pygments_lexer": "ipython3",
   "version": "3.9.7"
  }
 },
 "nbformat": 4,
 "nbformat_minor": 5
}
