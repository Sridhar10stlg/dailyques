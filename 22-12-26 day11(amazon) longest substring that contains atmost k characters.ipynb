{
 "cells": [
  {
   "cell_type": "code",
   "execution_count": null,
   "id": "ffc9871d",
   "metadata": {},
   "outputs": [],
   "source": [
    "'''\n",
    "This ques was asked by Amazon.\n",
    "gn an integer k and string s, \n",
    "find the length of the longest substring that contains at most k characters\n",
    "\n",
    "Eg: \n",
    "s=abccba k=2\n",
    "Output\n",
    "bccb\n",
    "'''"
   ]
  },
  {
   "cell_type": "code",
   "execution_count": 12,
   "id": "08b1b372",
   "metadata": {},
   "outputs": [
    {
     "name": "stdout",
     "output_type": "stream",
     "text": [
      "abccbdeba\n",
      "3\n",
      "bccbd\n"
     ]
    }
   ],
   "source": [
    "string=input().strip()\n",
    "k=int(input())\n",
    "l=len(string)\n",
    "s=0\n",
    "e=k\n",
    "maxi=k\n",
    "ns=\"\"\n",
    "while e<=l:\n",
    "    if len(set(string[s:e]))<=k:\n",
    "        c=e-s\n",
    "        if c>=maxi:\n",
    "            maxi=c\n",
    "            ns=\"\"+string[s:e]\n",
    "        e+=1\n",
    "    else:\n",
    "        s+=1\n",
    "#print(maxi)\n",
    "print(ns)"
   ]
  },
  {
   "cell_type": "code",
   "execution_count": null,
   "id": "78ac0a39",
   "metadata": {},
   "outputs": [],
   "source": []
  },
  {
   "cell_type": "code",
   "execution_count": null,
   "id": "63c4bc96",
   "metadata": {},
   "outputs": [],
   "source": []
  },
  {
   "cell_type": "code",
   "execution_count": null,
   "id": "3562b93f",
   "metadata": {},
   "outputs": [],
   "source": []
  }
 ],
 "metadata": {
  "kernelspec": {
   "display_name": "Python 3 (ipykernel)",
   "language": "python",
   "name": "python3"
  },
  "language_info": {
   "codemirror_mode": {
    "name": "ipython",
    "version": 3
   },
   "file_extension": ".py",
   "mimetype": "text/x-python",
   "name": "python",
   "nbconvert_exporter": "python",
   "pygments_lexer": "ipython3",
   "version": "3.9.7"
  }
 },
 "nbformat": 4,
 "nbformat_minor": 5
}
