{
 "cells": [
  {
   "cell_type": "code",
   "execution_count": null,
   "id": "95a979ce",
   "metadata": {},
   "outputs": [],
   "source": [
    "'''\n",
    "Input \n",
    "4\n",
    "Output\n",
    "288\n",
    "Exp:4! * 3! * 2! * 1! = 288\n",
    "\n",
    "Input \n",
    "5\n",
    "Output\n",
    "34560\n",
    "Exp:5! * 4! * 3! * 2! * 1! = 34560'''"
   ]
  },
  {
   "cell_type": "code",
   "execution_count": 9,
   "id": "e295d49f",
   "metadata": {},
   "outputs": [
    {
     "name": "stdout",
     "output_type": "stream",
     "text": [
      "5\n",
      "34560\n"
     ]
    }
   ],
   "source": [
    "n=int(input())\n",
    "fact=1\n",
    "fof=1\n",
    "for i in range(1,n+1):\n",
    "    for j in range(1,i+1):\n",
    "        fof*=j\n",
    "    #fact=fact*i\n",
    "#print(f)\n",
    "print(fof)\n",
    "\n",
    "\n"
   ]
  },
  {
   "cell_type": "code",
   "execution_count": 8,
   "id": "d2c7dc78",
   "metadata": {},
   "outputs": [
    {
     "name": "stdout",
     "output_type": "stream",
     "text": [
      "6\n"
     ]
    },
    {
     "data": {
      "text/plain": [
       "720"
      ]
     },
     "execution_count": 8,
     "metadata": {},
     "output_type": "execute_result"
    }
   ],
   "source": [
    "def fact(n):\n",
    "    if n==0:\n",
    "        return 1\n",
    "    else:\n",
    "        return n*fact(n-1)\n",
    "n=int(input())\n",
    "fact(n)"
   ]
  },
  {
   "cell_type": "code",
   "execution_count": null,
   "id": "14230cdd",
   "metadata": {},
   "outputs": [],
   "source": []
  }
 ],
 "metadata": {
  "kernelspec": {
   "display_name": "Python 3 (ipykernel)",
   "language": "python",
   "name": "python3"
  },
  "language_info": {
   "codemirror_mode": {
    "name": "ipython",
    "version": 3
   },
   "file_extension": ".py",
   "mimetype": "text/x-python",
   "name": "python",
   "nbconvert_exporter": "python",
   "pygments_lexer": "ipython3",
   "version": "3.9.7"
  }
 },
 "nbformat": 4,
 "nbformat_minor": 5
}
