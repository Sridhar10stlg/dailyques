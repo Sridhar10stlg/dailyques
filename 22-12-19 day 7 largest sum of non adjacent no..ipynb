{
 "cells": [
  {
   "cell_type": "code",
   "execution_count": null,
   "id": "da80fa67",
   "metadata": {},
   "outputs": [],
   "source": [
    "'''\n",
    "Input1\n",
    "2 4 6 2 5\n",
    "Output1\n",
    "13 (2+6+5)\n",
    "\n",
    "Input2\n",
    "5 1 1 5\n",
    "Output2\n",
    "10 (5+5)\n",
    "\n",
    "Input3\n",
    "2 4 1 6 3 2 5 7\n",
    "Output3\n",
    "19\n",
    "'''"
   ]
  },
  {
   "cell_type": "code",
   "execution_count": 1,
   "id": "dd57b7b2",
   "metadata": {},
   "outputs": [
    {
     "name": "stdout",
     "output_type": "stream",
     "text": [
      "5 1 5 6\n",
      "11\n"
     ]
    }
   ],
   "source": [
    "def maxsum(arr):\n",
    "    incl = arr[0]\n",
    "    excl = 0\n",
    "    for i in range(1,len(arr)):\n",
    "        temp=excl+arr[i]\n",
    "        excl=max(incl,excl)\n",
    "        incl=temp\n",
    "    return max(incl,excl)\n",
    "\n",
    "arr=list(map(int,input().split()))\n",
    "print(maxsum(arr))"
   ]
  },
  {
   "cell_type": "code",
   "execution_count": null,
   "id": "8c9d1178",
   "metadata": {},
   "outputs": [],
   "source": []
  }
 ],
 "metadata": {
  "kernelspec": {
   "display_name": "Python 3 (ipykernel)",
   "language": "python",
   "name": "python3"
  },
  "language_info": {
   "codemirror_mode": {
    "name": "ipython",
    "version": 3
   },
   "file_extension": ".py",
   "mimetype": "text/x-python",
   "name": "python",
   "nbconvert_exporter": "python",
   "pygments_lexer": "ipython3",
   "version": "3.9.7"
  }
 },
 "nbformat": 4,
 "nbformat_minor": 5
}
