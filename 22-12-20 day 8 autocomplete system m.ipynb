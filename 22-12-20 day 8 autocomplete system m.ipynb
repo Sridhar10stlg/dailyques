{
 "cells": [
  {
   "cell_type": "code",
   "execution_count": null,
   "id": "3d632ac9",
   "metadata": {},
   "outputs": [],
   "source": [
    "'''\n",
    "gn a string s and set of all possible query strings. \n",
    "return all string in the set that have s as a prefix\n",
    "\n",
    "Eg:\n",
    "de\n",
    "dog, deer, deal\n",
    "\n",
    "Output\n",
    "deer, deal'''"
   ]
  },
  {
   "cell_type": "code",
   "execution_count": 5,
   "id": "ff786114",
   "metadata": {},
   "outputs": [
    {
     "name": "stdout",
     "output_type": "stream",
     "text": [
      "de\n",
      "dog dear deal amdear\n",
      "dear deal "
     ]
    }
   ],
   "source": [
    "pre=input()\n",
    "a=list((input().split()))\n",
    "#print(pre)\n",
    "#print(a)\n",
    "n=len(pre)\n",
    "l=len(a)\n",
    "for i in range(l):\n",
    "    if (pre in a[i][:n]):\n",
    "        print(a[i],end=\" \")\n",
    "                \n"
   ]
  },
  {
   "cell_type": "code",
   "execution_count": null,
   "id": "3fce0bbe",
   "metadata": {},
   "outputs": [],
   "source": [
    "for j in pre:\n",
    "    print(j,end=\" \")"
   ]
  }
 ],
 "metadata": {
  "kernelspec": {
   "display_name": "Python 3 (ipykernel)",
   "language": "python",
   "name": "python3"
  },
  "language_info": {
   "codemirror_mode": {
    "name": "ipython",
    "version": 3
   },
   "file_extension": ".py",
   "mimetype": "text/x-python",
   "name": "python",
   "nbconvert_exporter": "python",
   "pygments_lexer": "ipython3",
   "version": "3.9.7"
  }
 },
 "nbformat": 4,
 "nbformat_minor": 5
}
