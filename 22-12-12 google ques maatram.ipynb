{
 "cells": [
  {
   "cell_type": "code",
   "execution_count": null,
   "id": "510e9746",
   "metadata": {},
   "outputs": [],
   "source": [
    "'''\n",
    "Input\n",
    "[10, 12, 3, 7]\n",
    "17\n",
    "\n",
    "Output \n",
    "True\n",
    "'''"
   ]
  },
  {
   "cell_type": "code",
   "execution_count": 5,
   "id": "ba6a4f6f",
   "metadata": {},
   "outputs": [
    {
     "name": "stdout",
     "output_type": "stream",
     "text": [
      "12 23 11 11\n",
      "23\n",
      "True\n"
     ]
    }
   ],
   "source": [
    "l=list(map(int,input().split()))\n",
    "x=int(input())\n",
    "n=len(l)\n",
    "flag=0\n",
    "for i in range(n):\n",
    "    for j in range(n):\n",
    "        if l[i]==l[j]:\n",
    "            continue\n",
    "        if l[i]+l[j]==x:\n",
    "            flag=1\n",
    "if flag==1:\n",
    "    print(\"True\")"
   ]
  },
  {
   "cell_type": "code",
   "execution_count": null,
   "id": "2231d3ac",
   "metadata": {},
   "outputs": [],
   "source": []
  },
  {
   "cell_type": "code",
   "execution_count": null,
   "id": "c3e35986",
   "metadata": {},
   "outputs": [],
   "source": []
  }
 ],
 "metadata": {
  "kernelspec": {
   "display_name": "Python 3 (ipykernel)",
   "language": "python",
   "name": "python3"
  },
  "language_info": {
   "codemirror_mode": {
    "name": "ipython",
    "version": 3
   },
   "file_extension": ".py",
   "mimetype": "text/x-python",
   "name": "python",
   "nbconvert_exporter": "python",
   "pygments_lexer": "ipython3",
   "version": "3.9.7"
  }
 },
 "nbformat": 4,
 "nbformat_minor": 5
}
