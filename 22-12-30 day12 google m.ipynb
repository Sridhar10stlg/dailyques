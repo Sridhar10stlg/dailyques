{
 "cells": [
  {
   "cell_type": "code",
   "execution_count": null,
   "id": "b810f394",
   "metadata": {},
   "outputs": [],
   "source": [
    "'''\n",
    "gn an array of integers and a number k, where 1<=k<=length of the array,\n",
    "compute the maximum values of each subarray of length k.\n",
    "\n",
    "Eg: gn array=[10,5,2,7,8,8]\n",
    "\n",
    "[10, 5, 2, 7, 8, 8]\n",
    "[ 0, 1, 2, 3, 4, 5]\n",
    "k=3\n",
    "we should get:[10,7,8,8]\n",
    "\n",
    "-->10 = max(10,5,2)\n",
    "-->7 = max(5,2,7)\n",
    "-->8 = max(2,7,8)\n",
    "-->8 = max(7,8,8)'''"
   ]
  },
  {
   "cell_type": "code",
   "execution_count": 8,
   "id": "7f76faca",
   "metadata": {},
   "outputs": [
    {
     "name": "stdout",
     "output_type": "stream",
     "text": [
      "10 5 2 7 8 8 \n",
      "3\n",
      "6 3\n",
      "[10, 7, 8, 8]\n"
     ]
    }
   ],
   "source": [
    "arr=list(map(int,input().split()))\n",
    "l=len(arr)\n",
    "k=int(input())\n",
    "print(l,k)\n",
    "ml=[]\n",
    "for i in range(l-k+1):\n",
    "    m=arr[i]\n",
    "    for j in range(i,i+k):\n",
    "        if arr[j]>=m:\n",
    "            m=arr[j]\n",
    "    ml.append(m)    \n",
    "print(ml)"
   ]
  },
  {
   "cell_type": "code",
   "execution_count": null,
   "id": "7292df6a",
   "metadata": {},
   "outputs": [],
   "source": []
  }
 ],
 "metadata": {
  "kernelspec": {
   "display_name": "Python 3 (ipykernel)",
   "language": "python",
   "name": "python3"
  },
  "language_info": {
   "codemirror_mode": {
    "name": "ipython",
    "version": 3
   },
   "file_extension": ".py",
   "mimetype": "text/x-python",
   "name": "python",
   "nbconvert_exporter": "python",
   "pygments_lexer": "ipython3",
   "version": "3.9.7"
  }
 },
 "nbformat": 4,
 "nbformat_minor": 5
}
