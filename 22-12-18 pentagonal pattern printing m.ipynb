{
 "cells": [
  {
   "cell_type": "code",
   "execution_count": null,
   "id": "5f88149b",
   "metadata": {},
   "outputs": [],
   "source": [
    "'''\n",
    "input\n",
    "1\n",
    "#*\n",
    "Output \n",
    "1\n",
    "\n",
    "Input\n",
    "3\n",
    "  *\n",
    " ***\n",
    "*****\n",
    "****\n",
    "***\n",
    "Output\n",
    "\n",
    "'''"
   ]
  },
  {
   "cell_type": "code",
   "execution_count": 2,
   "id": "0a8447c4",
   "metadata": {},
   "outputs": [
    {
     "name": "stdout",
     "output_type": "stream",
     "text": [
      "8\n",
      "141\n"
     ]
    }
   ],
   "source": [
    "n=int(input())\n",
    "s=1\n",
    "for i in range(n):\n",
    "    s=s+(5*i)\n",
    "print(s)"
   ]
  },
  {
   "cell_type": "code",
   "execution_count": null,
   "id": "0579ac19",
   "metadata": {},
   "outputs": [],
   "source": []
  }
 ],
 "metadata": {
  "kernelspec": {
   "display_name": "Python 3 (ipykernel)",
   "language": "python",
   "name": "python3"
  },
  "language_info": {
   "codemirror_mode": {
    "name": "ipython",
    "version": 3
   },
   "file_extension": ".py",
   "mimetype": "text/x-python",
   "name": "python",
   "nbconvert_exporter": "python",
   "pygments_lexer": "ipython3",
   "version": "3.9.7"
  }
 },
 "nbformat": 4,
 "nbformat_minor": 5
}
