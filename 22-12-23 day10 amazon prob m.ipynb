{
 "cells": [
  {
   "cell_type": "code",
   "execution_count": null,
   "id": "c9ca749e",
   "metadata": {},
   "outputs": [],
   "source": [
    "'''\n",
    "there exists a staircase with N steps, and u can climb up either 1 or 2 steps at a time.\n",
    "Given N, write a function that returns the number of unique ways you can climb the staircase. \n",
    "The order of the steps matters\n",
    "\n",
    "Eg: if n is 4, then there are 5 unique ways\n",
    "->1,1,1,1\n",
    "->1,2,1\n",
    "->1,1,2\n",
    "->2,1,1\n",
    "->2,2\n",
    "\n",
    "what if instead being able to climb 1 or 2 steps at a time, u could climb any number from a set of integers X\n",
    "if X={1,3,5} you could climb 1,3 or 5 steps at a time\n",
    "\n",
    "'''"
   ]
  },
  {
   "cell_type": "code",
   "execution_count": 4,
   "id": "8a17c616",
   "metadata": {},
   "outputs": [
    {
     "name": "stdout",
     "output_type": "stream",
     "text": [
      "3\n",
      "3\n"
     ]
    }
   ],
   "source": [
    "def climbstairs(n):\n",
    "    if n<2:\n",
    "        return 1\n",
    "    else:\n",
    "        return climbstairs(n-1)+climbstairs(n-2)\n",
    "n=int(input())\n",
    "print(climbstairs(n))"
   ]
  },
  {
   "cell_type": "code",
   "execution_count": 10,
   "id": "9a465364",
   "metadata": {},
   "outputs": [
    {
     "name": "stdout",
     "output_type": "stream",
     "text": [
      "5\n",
      "1 3 5\n",
      "5\n"
     ]
    }
   ],
   "source": [
    "def climbstairs(n,l):\n",
    "    if n<2:\n",
    "        return 1\n",
    "    na=[0]*(n+1)\n",
    "    na[0]=1\n",
    "    for i in range(1,n+1):\n",
    "        for j in l:\n",
    "            if i-j>=0:\n",
    "                na[i]=na[i]+na[i-j]\n",
    "    return na[-1]\n",
    "\n",
    "\n",
    "n=int(input())\n",
    "l=list(map(int,input().split()))\n",
    "print(climbstairs(n,l))"
   ]
  },
  {
   "cell_type": "code",
   "execution_count": null,
   "id": "b016441d",
   "metadata": {},
   "outputs": [],
   "source": [
    "5\n",
    "{1,3,5}\n",
    "1,1,1,1,1\n",
    "1,1,3\n",
    "1,3,1\n",
    "3,1,1\n",
    "5\n",
    "\n",
    "5\n"
   ]
  }
 ],
 "metadata": {
  "kernelspec": {
   "display_name": "Python 3 (ipykernel)",
   "language": "python",
   "name": "python3"
  },
  "language_info": {
   "codemirror_mode": {
    "name": "ipython",
    "version": 3
   },
   "file_extension": ".py",
   "mimetype": "text/x-python",
   "name": "python",
   "nbconvert_exporter": "python",
   "pygments_lexer": "ipython3",
   "version": "3.9.7"
  }
 },
 "nbformat": 4,
 "nbformat_minor": 5
}
