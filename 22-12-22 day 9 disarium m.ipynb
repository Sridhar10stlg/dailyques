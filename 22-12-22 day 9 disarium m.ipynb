{
 "cells": [
  {
   "cell_type": "code",
   "execution_count": null,
   "id": "3feb21da",
   "metadata": {},
   "outputs": [],
   "source": [
    "'''\n",
    "75 false\n",
    "7^1 + 5^2 = 7+25 = 32 not equal to 75\n",
    "\n",
    "135 true\n",
    "1^1 + 3^2 + 5^3 = 1+9+125 = 135 is equal to 135 '''"
   ]
  },
  {
   "cell_type": "code",
   "execution_count": 6,
   "id": "6867bfe0",
   "metadata": {},
   "outputs": [
    {
     "name": "stdout",
     "output_type": "stream",
     "text": [
      "135\n",
      "True\n"
     ]
    }
   ],
   "source": [
    "num=input()\n",
    "n=int(num)\n",
    "l=len(num)\n",
    "s=0\n",
    "for i in range(l):\n",
    "    s=s+(int(num[i])**(i+1))\n",
    "if s==n:\n",
    "    print(\"True\")\n",
    "else:\n",
    "    print(\"False\")"
   ]
  },
  {
   "cell_type": "code",
   "execution_count": 7,
   "id": "ef176ec6",
   "metadata": {},
   "outputs": [
    {
     "name": "stdout",
     "output_type": "stream",
     "text": [
      "544\n",
      "False\n"
     ]
    }
   ],
   "source": [
    "num=input()\n",
    "n=int(num)\n",
    "rev=num[::-1]\n",
    "revn=int(rev)\n",
    "#print(n,rev)\n",
    "\n",
    "rem=0\n",
    "s=0\n",
    "i=1\n",
    "\n",
    "while revn>0:\n",
    "    rem=revn%10\n",
    "    s=s+(rem**i)\n",
    "    revn=revn//10\n",
    "    i+=1\n",
    "\n",
    "if s==n:\n",
    "    print(\"True\")\n",
    "else:\n",
    "    print(\"False\")"
   ]
  },
  {
   "cell_type": "code",
   "execution_count": null,
   "id": "2f649166",
   "metadata": {},
   "outputs": [],
   "source": []
  }
 ],
 "metadata": {
  "kernelspec": {
   "display_name": "Python 3 (ipykernel)",
   "language": "python",
   "name": "python3"
  },
  "language_info": {
   "codemirror_mode": {
    "name": "ipython",
    "version": 3
   },
   "file_extension": ".py",
   "mimetype": "text/x-python",
   "name": "python",
   "nbconvert_exporter": "python",
   "pygments_lexer": "ipython3",
   "version": "3.9.7"
  }
 },
 "nbformat": 4,
 "nbformat_minor": 5
}
