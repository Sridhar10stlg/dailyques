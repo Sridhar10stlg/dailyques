{
 "cells": [
  {
   "cell_type": "code",
   "execution_count": null,
   "id": "49e7a098",
   "metadata": {},
   "outputs": [],
   "source": [
    "'''\n",
    "find missing linear positive integer. or . find the lowest positive integer that does not exist in array. The array can contain \n",
    "duplicate and negative numbers as well.\n",
    "\n",
    "eg: input [3, 4, 1, -1] output 2\n",
    "\n",
    "eg: input [1, 2, 0] output 3\n",
    "\n",
    "'''"
   ]
  },
  {
   "cell_type": "code",
   "execution_count": 22,
   "id": "d4fcb623",
   "metadata": {},
   "outputs": [
    {
     "name": "stdout",
     "output_type": "stream",
     "text": [
      "3 4 1 -1\n",
      "2\n"
     ]
    }
   ],
   "source": [
    "arr=list(map(int,input().split()))\n",
    "arr.sort()\n",
    "maxi=max(arr)\n",
    "for i in range(1,maxi+2):\n",
    "    if i not in arr:\n",
    "        print(i)\n",
    "        break\n",
    "    "
   ]
  },
  {
   "cell_type": "code",
   "execution_count": null,
   "id": "00a6c4da",
   "metadata": {},
   "outputs": [],
   "source": []
  },
  {
   "cell_type": "markdown",
   "id": "09ff3389",
   "metadata": {},
   "source": [
    "# "
   ]
  }
 ],
 "metadata": {
  "kernelspec": {
   "display_name": "Python 3 (ipykernel)",
   "language": "python",
   "name": "python3"
  },
  "language_info": {
   "codemirror_mode": {
    "name": "ipython",
    "version": 3
   },
   "file_extension": ".py",
   "mimetype": "text/x-python",
   "name": "python",
   "nbconvert_exporter": "python",
   "pygments_lexer": "ipython3",
   "version": "3.9.7"
  }
 },
 "nbformat": 4,
 "nbformat_minor": 5
}
