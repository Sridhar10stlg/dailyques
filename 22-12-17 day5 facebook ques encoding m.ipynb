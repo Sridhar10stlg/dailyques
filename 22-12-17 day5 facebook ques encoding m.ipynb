{
 "cells": [
  {
   "cell_type": "code",
   "execution_count": null,
   "id": "2abe1f25",
   "metadata": {},
   "outputs": [],
   "source": [
    "'''\n",
    "gn mapping a=1,b=2,c=3.....z=26\n",
    "count the no. of ways it can be decoded\n",
    "\n",
    "eg: 111 would give 3\n",
    "it can be decoded as aaa,ka,ak  \n",
    "001 is not allowed\n",
    "'''"
   ]
  },
  {
   "cell_type": "code",
   "execution_count": 7,
   "id": "bb6cd3be",
   "metadata": {},
   "outputs": [
    {
     "name": "stdout",
     "output_type": "stream",
     "text": [
      "111\n",
      "3\n"
     ]
    }
   ],
   "source": [
    "def decode(num):\n",
    "    n=len(num)\n",
    "    nar=[0 for i in range(n)]\n",
    "    if num[0]!='o':\n",
    "        nar[0]=1\n",
    "    for i in range(1,n):\n",
    "        x=int(num[i])\n",
    "        y=int(num[i-1:i+1])\n",
    "        if x>=1 and x<=9:\n",
    "            nar[i]+=nar[i-1]\n",
    "        if y>=10 and y<=26:\n",
    "            if i-2>=0:\n",
    "                nar[i]+=nar[i-2]\n",
    "            else:\n",
    "                nar[i]+=1\n",
    "    print(nar[-1])\n",
    "\n",
    "num=input()\n",
    "decode(num)"
   ]
  },
  {
   "cell_type": "code",
   "execution_count": null,
   "id": "030a553c",
   "metadata": {},
   "outputs": [],
   "source": []
  }
 ],
 "metadata": {
  "kernelspec": {
   "display_name": "Python 3 (ipykernel)",
   "language": "python",
   "name": "python3"
  },
  "language_info": {
   "codemirror_mode": {
    "name": "ipython",
    "version": 3
   },
   "file_extension": ".py",
   "mimetype": "text/x-python",
   "name": "python",
   "nbconvert_exporter": "python",
   "pygments_lexer": "ipython3",
   "version": "3.9.7"
  }
 },
 "nbformat": 4,
 "nbformat_minor": 5
}
