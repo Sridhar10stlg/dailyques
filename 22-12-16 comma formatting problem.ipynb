{
 "cells": [
  {
   "cell_type": "code",
   "execution_count": null,
   "id": "5d68ff29",
   "metadata": {},
   "outputs": [],
   "source": [
    "'''\n",
    "Input1\n",
    "1000000\n",
    "Output1\n",
    "1,000,000\n",
    "\n",
    "Input2\n",
    "34353264353\n",
    "output2\n",
    "34,353,264,353'''"
   ]
  },
  {
   "cell_type": "code",
   "execution_count": 2,
   "id": "e30624d5",
   "metadata": {},
   "outputs": [
    {
     "name": "stdout",
     "output_type": "stream",
     "text": [
      "10000000\n",
      "10,000,000\n"
     ]
    }
   ],
   "source": [
    "n=input()\n",
    "rev=n[::-1]\n",
    "l=len(n)\n",
    "res=\"\"\n",
    "for i in range(0,l,3):\n",
    "    if i+3<l:\n",
    "        res=res+rev[i:i+3]+\",\"\n",
    "    else:\n",
    "        res=res+rev[i:]\n",
    "print(res[::-1])\n",
    "    \n"
   ]
  },
  {
   "cell_type": "code",
   "execution_count": null,
   "id": "855bc285",
   "metadata": {},
   "outputs": [],
   "source": []
  }
 ],
 "metadata": {
  "kernelspec": {
   "display_name": "Python 3 (ipykernel)",
   "language": "python",
   "name": "python3"
  },
  "language_info": {
   "codemirror_mode": {
    "name": "ipython",
    "version": 3
   },
   "file_extension": ".py",
   "mimetype": "text/x-python",
   "name": "python",
   "nbconvert_exporter": "python",
   "pygments_lexer": "ipython3",
   "version": "3.9.7"
  }
 },
 "nbformat": 4,
 "nbformat_minor": 5
}
