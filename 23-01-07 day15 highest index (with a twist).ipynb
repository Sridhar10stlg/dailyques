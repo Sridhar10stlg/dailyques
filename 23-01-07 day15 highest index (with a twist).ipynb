{
 "cells": [
  {
   "cell_type": "code",
   "execution_count": null,
   "id": "b9352de0",
   "metadata": {},
   "outputs": [],
   "source": [
    "'''\n",
    "Gn a name, return the letter with the hightest index in alphabetical order, with its corresponding index,\n",
    "in the form of a string. U r prohibited to use max() nor is reassigning a value to the alphabet is allowed\n",
    "'''"
   ]
  },
  {
   "cell_type": "code",
   "execution_count": 8,
   "id": "fb446fa6",
   "metadata": {},
   "outputs": [
    {
     "name": "stdout",
     "output_type": "stream",
     "text": [
      "Salim\n",
      "19S\n"
     ]
    }
   ],
   "source": [
    "s=input()\n",
    "l=len(s)\n",
    "ls=s.lower()\n",
    "#print(ls)\n",
    "m=0\n",
    "for i in range(l):\n",
    "    if ord(ls[i])>m:\n",
    "        m=ord(ls[i])\n",
    "if m==ord(ls[0]):\n",
    "    print(str(m-96)+s[0])\n",
    "else:\n",
    "    print(str(m-96)+chr(m))"
   ]
  },
  {
   "cell_type": "code",
   "execution_count": null,
   "id": "654118e1",
   "metadata": {},
   "outputs": [],
   "source": []
  },
  {
   "cell_type": "code",
   "execution_count": null,
   "id": "1d0a8330",
   "metadata": {},
   "outputs": [],
   "source": []
  }
 ],
 "metadata": {
  "kernelspec": {
   "display_name": "Python 3 (ipykernel)",
   "language": "python",
   "name": "python3"
  },
  "language_info": {
   "codemirror_mode": {
    "name": "ipython",
    "version": 3
   },
   "file_extension": ".py",
   "mimetype": "text/x-python",
   "name": "python",
   "nbconvert_exporter": "python",
   "pygments_lexer": "ipython3",
   "version": "3.9.7"
  }
 },
 "nbformat": 4,
 "nbformat_minor": 5
}
